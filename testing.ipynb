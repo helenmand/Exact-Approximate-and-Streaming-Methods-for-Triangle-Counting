{
 "cells": [
  {
   "cell_type": "markdown",
   "metadata": {},
   "source": [
    "# Triangle Counting\n",
    "In this notebook we will test different parameters of the implemented algorithms for triangle counting. The algorithms will be tested for graph of various sizes."
   ]
  },
  {
   "cell_type": "code",
   "execution_count": 20,
   "metadata": {},
   "outputs": [],
   "source": [
    "import networkx as nx\n",
    "import numpy as np\n",
    "import exact as e\n",
    "import doulion as d\n",
    "import triest as t\n",
    "\n",
    "import time"
   ]
  },
  {
   "cell_type": "code",
   "execution_count": 22,
   "metadata": {},
   "outputs": [],
   "source": [
    "def nodeIter_test(g):\n",
    "    start = time.process_time()\n",
    "    n = e.node_iter(G=g)\n",
    "    elapsed_time = time.process_time() - start\n",
    "    \n",
    "    return [elapsed_time, n]"
   ]
  },
  {
   "cell_type": "code",
   "execution_count": 30,
   "metadata": {},
   "outputs": [],
   "source": [
    "def doulion_test(g):\n",
    "    probabilities = [0.2, 0.4, 0.5, 0.6, 0.65, 0.69, 0.7, 0.73, 0.77, 0.8, 0.9]\n",
    "    res = {}\n",
    "\n",
    "    for p in probabilities:\n",
    "        start = time.process_time()\n",
    "        n = d.DOULION_NodeIterator(G=g, p=p)\n",
    "\n",
    "        elapsed_time = time.process_time() - start\n",
    "        res[p] = [elapsed_time, n]\n",
    "    \n",
    "    return res"
   ]
  },
  {
   "cell_type": "code",
   "execution_count": 29,
   "metadata": {},
   "outputs": [],
   "source": [
    "def triest_base_test(g, memory):\n",
    "    res = {}\n",
    "\n",
    "    for M in memory:\n",
    "        start = time.process_time()\n",
    "        n = t.triest_base(G=g, M=M)\n",
    "\n",
    "        elapsed_time = time.process_time() - start\n",
    "        res[M] = [elapsed_time, n]\n",
    "    \n",
    "    return res"
   ]
  },
  {
   "cell_type": "code",
   "execution_count": 31,
   "metadata": {},
   "outputs": [],
   "source": [
    "def triest_impr_test(g, memory):\n",
    "    res = {}\n",
    "\n",
    "    for M in memory:\n",
    "        start = time.process_time()\n",
    "        n = t.triest_impr(G=g, M=M)\n",
    "\n",
    "        elapsed_time = time.process_time() - start\n",
    "        res[M] = [elapsed_time, n]\n",
    "    \n",
    "    return res"
   ]
  },
  {
   "cell_type": "code",
   "execution_count": 32,
   "metadata": {},
   "outputs": [],
   "source": [
    "# small graph \n",
    "g = nx.read_edgelist(f\"data/email.txt\", create_using=nx.Graph(), nodetype = int)\n",
    "g.remove_edges_from(nx.selfloop_edges(g)) # removing self-loops (if any)\n",
    "\n",
    "memory = [100, 400, 800, 1500, 3000, 5000, 8500, 10000, 12000, 13000, 14000, 16000, 17000]\n",
    "\n",
    "node_iter_res_s = nodeIter_test(g=g)\n",
    "doulion_res_s = doulion_test(g=g)\n",
    "t_base_res_s = triest_base_test(g=g, memory=memory)\n",
    "t_impr_res_s = triest_impr_test(g=g, memory=memory)"
   ]
  },
  {
   "cell_type": "code",
   "execution_count": 35,
   "metadata": {},
   "outputs": [],
   "source": [
    "import pickle\n",
    "\n",
    "with open('node_iter_res_s.pkl', 'wb') as file:\n",
    "    pickle.dump(node_iter_res_s, file)\n",
    "\n",
    "with open('doulion_res_s.pkl', 'wb') as file:\n",
    "    pickle.dump(doulion_res_s, file)\n",
    "\n",
    "with open('t_base_res_s.pkl', 'wb') as file:\n",
    "    pickle.dump(t_base_res_s, file)\n",
    "\n",
    "with open('t_impr_res_s.pkl', 'wb') as file:\n",
    "    pickle.dump(t_impr_res_s, file)"
   ]
  },
  {
   "cell_type": "code",
   "execution_count": null,
   "metadata": {},
   "outputs": [],
   "source": [
    "# medium graph \n",
    "g = nx.read_edgelist(f\"data/roadpa.txt\", create_using=nx.Graph(), nodetype = int)\n",
    "g.remove_edges_from(nx.selfloop_edges(g)) # removing self-loops (if any)\n",
    "\n",
    "memory = [100, 1500, 3000, 10000, 12000, 14000, 17000]\n",
    "\n",
    "node_iter_res_m = nodeIter_test(g=g)\n",
    "doulion_res_m = doulion_test(g=g)\n",
    "t_base_res_m = triest_base_test(g=g, memory=memory)\n",
    "t_impr_res_m = triest_impr_test(g=g, memory=memory)"
   ]
  },
  {
   "cell_type": "code",
   "execution_count": 36,
   "metadata": {},
   "outputs": [],
   "source": [
    "with open('node_iter_res_m.pkl', 'wb') as file:\n",
    "    pickle.dump(node_iter_res_m, file)\n",
    "\n",
    "with open('doulion_res_m.pkl', 'wb') as file:\n",
    "    pickle.dump(doulion_res_m, file)\n",
    "\n",
    "with open('t_base_res_m.pkl', 'wb') as file:\n",
    "    pickle.dump(t_base_res_m, file)\n",
    "\n",
    "with open('t_impr_res_m.pkl', 'wb') as file:\n",
    "    pickle.dump(t_impr_res_m, file)"
   ]
  },
  {
   "cell_type": "code",
   "execution_count": null,
   "metadata": {},
   "outputs": [],
   "source": [
    "# big graph \n",
    "g = nx.read_edgelist(f\"data/astroph.txt\", create_using=nx.Graph(), nodetype = int)\n",
    "g.remove_edges_from(nx.selfloop_edges(g)) # removing self-loops (if any)\n",
    "\n",
    "memory = [100, 3000, 10000, 14000, 17000]\n",
    "\n",
    "node_iter_res_b = nodeIter_test(g=g)\n",
    "doulion_res_b = doulion_test(g=g)\n",
    "t_base_res_b = triest_base_test(g=g, memory=memory)\n",
    "t_impr_res_b = triest_impr_test(g=g, memory=memory)"
   ]
  },
  {
   "cell_type": "code",
   "execution_count": 39,
   "metadata": {},
   "outputs": [],
   "source": [
    "with open('node_iter_res_b.pkl', 'wb') as file:\n",
    "    pickle.dump(node_iter_res_b, file)\n",
    "\n",
    "with open('doulion_res_b.pkl', 'wb') as file:\n",
    "    pickle.dump(doulion_res_b, file)\n",
    "\n",
    "with open('t_base_res_b.pkl', 'wb') as file:\n",
    "    pickle.dump(t_base_res_b, file)\n",
    "\n",
    "with open('t_impr_res_b.pkl', 'wb') as file:\n",
    "    pickle.dump(t_impr_res_b, file)"
   ]
  }
 ],
 "metadata": {
  "kernelspec": {
   "display_name": "elenienv",
   "language": "python",
   "name": "python3"
  },
  "language_info": {
   "codemirror_mode": {
    "name": "ipython",
    "version": 3
   },
   "file_extension": ".py",
   "mimetype": "text/x-python",
   "name": "python",
   "nbconvert_exporter": "python",
   "pygments_lexer": "ipython3",
   "version": "3.11.5"
  }
 },
 "nbformat": 4,
 "nbformat_minor": 2
}
